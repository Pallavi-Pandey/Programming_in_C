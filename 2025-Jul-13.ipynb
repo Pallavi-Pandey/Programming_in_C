{
 "cells": [
  {
   "cell_type": "markdown",
   "metadata": {},
   "source": [
    "# Programming in C - Practice Questions\n",
    "## July 13, 2025"
   ]
  },
  {
   "cell_type": "markdown",
   "metadata": {},
   "source": [
    "## 1. Peripherals in a Computer\n",
    "\n",
    "**Question:** Select the correct statement about peripherals in a computer.\n",
    "\n",
    "**Options:**\n",
    "- CPU reads the values from the peripherals by reading the value at the memory address mapped to them. ✅\n",
    "- CPU has separate instructions for performing read and write from a peripheral.\n",
    "- CPU cannot read the values from the peripherals.\n",
    "- There is a standard and fixed memory mappings for each input device.\n",
    "\n",
    "**Answer:** CPU reads the values from the peripherals by reading the value at the memory address mapped to them."
   ]
  },
  {
   "cell_type": "markdown",
   "metadata": {},
   "source": [
    "## 2. Memory Types in Descending Order\n",
    "\n",
    "**Question:** Arrange the memory types from largest to smallest size.\n",
    "\n",
    "**Options:**\n",
    "- Main Memory (RAM), Secondary Memory (Hard Drive), Cache Memory, Registers\n",
    "- Main Memory (RAM), Secondary Memory (Hard Drive), Registers, Cache Memory\n",
    "- **Secondary Memory (Hard Drive), Main Memory (RAM), Cache Memory, Registers ✅**\n",
    "- Secondary Memory (Hard Drive), Registers, Main Memory (RAM), Cache Memory\n",
    "\n",
    "**Answer:** Secondary Memory > Main Memory > Cache Memory > Registers"
   ]
  },
  {
   "cell_type": "markdown",
   "metadata": {},
   "source": [
    "## 3. C Language Description\n",
    "\n",
    "**Question:** Which of the following best describes the C programming language?\n",
    "\n",
    "**Options:**\n",
    "- High-level, object-oriented, interpreted\n",
    "- High-level, unstructured, compiled\n",
    "- **Mid-level, structured, compiled ✅**\n",
    "- Low-level, procedural, interpreted\n",
    "\n",
    "**Answer:** Mid-level, structured, compiled"
   ]
  },
  {
   "cell_type": "markdown",
   "metadata": {},
   "source": [
    "## 4. Binary to Decimal Conversion\n",
    "\n",
    "**Question:** Convert binary `1101101` to decimal.\n",
    "\n",
    "**Options:** 109 ✅, 101, 117, 93\n",
    "\n",
    "**Answer:** 109"
   ]
  },
  {
   "cell_type": "code",
   "execution_count": null,
   "metadata": {},
   "outputs": [],
   "source": [
    "# Binary to decimal conversion verification\n",
    "binary = '1101101'\n",
    "decimal = int(binary, 2)\n",
    "print(f\"Binary {binary} = Decimal {decimal}\")\n",
    "\n",
    "# Manual calculation\n",
    "print(\"\\nManual calculation:\")\n",
    "print(\"1*2^6 + 1*2^5 + 0*2^4 + 1*2^3 + 1*2^2 + 0*2^1 + 1*2^0\")\n",
    "result = 1*64 + 1*32 + 0*16 + 1*8 + 1*4 + 0*2 + 1*1\n",
    "print(f\"= {64} + {32} + {0} + {8} + {4} + {0} + {1} = {result}\")"
   ]
  },
  {
   "cell_type": "markdown",
   "metadata": {},
   "source": [
    "## 5. Generalized Memory Model Computation\n",
    "\n",
    "**Question:** Given the memory operations, find M[6].\n",
    "\n",
    "```\n",
    "M[0] ← x\n",
    "M[1] ← y\n",
    "M[2] ← M[0] * M[0]\n",
    "M[3] ← M[1] * M[1]\n",
    "M[4] ← 2 * M[0] * M[1]\n",
    "M[5] ← M[2] + M[4]\n",
    "M[6] ← M[3] - M[4]\n",
    "M[6] ← M[5] + M[6]\n",
    "```\n",
    "\n",
    "**Answer:** M[6] = x² + y²"
   ]
  },
  {
   "cell_type": "code",
   "execution_count": null,
   "metadata": {},
   "outputs": [],
   "source": [
    "# Memory model computation verification\n",
    "def compute_memory_model(x, y):\n",
    "    M = [0] * 7\n",
    "    M[0] = x\n",
    "    M[1] = y\n",
    "    M[2] = M[0] * M[0]  # x²\n",
    "    M[3] = M[1] * M[1]  # y²\n",
    "    M[4] = 2 * M[0] * M[1]  # 2xy\n",
    "    M[5] = M[2] + M[4]  # x² + 2xy\n",
    "    M[6] = M[3] - M[4]  # y² - 2xy\n",
    "    M[6] = M[5] + M[6]  # (x² + 2xy) + (y² - 2xy) = x² + y²\n",
    "    return M[6]\n",
    "\n",
    "# Test with sample values\n",
    "x, y = 3, 4\n",
    "result = compute_memory_model(x, y)\n",
    "expected = x**2 + y**2\n",
    "print(f\"For x={x}, y={y}: M[6] = {result}, x² + y² = {expected}\")\n",
    "print(f\"Match: {result == expected}\")"
   ]
  },
  {
   "cell_type": "markdown",
   "metadata": {},
   "source": [
    "## 6. C Program with Nested Loops\n",
    "\n",
    "**Question:** What is the output of this C program?\n",
    "\n",
    "```c\n",
    "int main() {\n",
    "    int count = 0;\n",
    "    for (int i = 1; i <= 3; i++) {\n",
    "        for (int j = 1; j <= 3; j++) {\n",
    "            if ((i + j) % 2 == 0)\n",
    "                count++;\n",
    "        }\n",
    "    }\n",
    "    printf(\"%d\\n\", count);\n",
    "    return 0;\n",
    "}\n",
    "```\n",
    "\n",
    "**Options:** 3, **5 ✅**, 6, 4\n",
    "\n",
    "**Answer:** 5"
   ]
  },
  {
   "cell_type": "code",
   "execution_count": null,
   "metadata": {},
   "outputs": [],
   "source": [
    "# Python simulation of the C program\n",
    "count = 0\n",
    "print(\"Checking (i + j) % 2 == 0:\")\n",
    "for i in range(1, 4):  # 1 to 3\n",
    "    for j in range(1, 4):  # 1 to 3\n",
    "        sum_ij = i + j\n",
    "        is_even = (sum_ij % 2 == 0)\n",
    "        print(f\"i={i}, j={j}: {i}+{j}={sum_ij}, even={is_even}\")\n",
    "        if is_even:\n",
    "            count += 1\n",
    " \n",
    "print(f\"\\nFinal count: {count}\")"
   ]
  },
  {
   "cell_type": "markdown",
   "metadata": {},
   "source": [
    "## 7. Instruction Encoding\n",
    "\n",
    "**Question:** A CPU has 30 unique instructions and 3 operands per instruction, each addressing one of 256 registers. Minimum number of bits required?\n",
    "\n",
    "**Options:** 28, **29 ✅**, 30, 26\n",
    "\n",
    "**Answer:** 29 bits"
   ]
  },
  {
   "cell_type": "code",
   "execution_count": null,
   "metadata": {},
   "outputs": [],
   "source": [
    "import math\n",
    "\n",
    "# Calculate bits needed for instruction encoding\n",
    "instructions = 30\n",
    "operands = 3\n",
    "registers = 256\n",
    "\n",
    "# Bits needed for instruction opcode\n",
    "opcode_bits = math.ceil(math.log2(instructions))\n",
    "print(f\"Bits for {instructions} instructions: {opcode_bits}\")\n",
    "\n",
    "# Bits needed for each register address\n",
    "register_bits = math.ceil(math.log2(registers))\n",
    "print(f\"Bits for {registers} registers: {register_bits}\")\n",
    "\n",
    "# Total bits needed\n",
    "total_bits = opcode_bits + (operands * register_bits)\n",
    "print(f\"\\nTotal bits = {opcode_bits} + ({operands} × {register_bits}) = {total_bits}\")"
   ]
  },
  {
   "cell_type": "markdown",
   "metadata": {},
   "source": [
    "## 8. Two's Complement Conversion\n",
    "\n",
    "**Question:** Find decimal equivalent of 8-bit two's complement number `11111010`.\n",
    "\n",
    "**Options:** 250, **-6 ✅**, -5, 6\n",
    "\n",
    "**Answer:** -6"
   ]
  },
  {
   "cell_type": "code",
   "execution_count": null,
   "metadata": {},
   "outputs": [],
   "source": [
    "# Two's complement conversion\n",
    "binary_str = '11111010'\n",
    "print(f\"8-bit binary: {binary_str}\")\n",
    "\n",
    "# Convert to unsigned first\n",
    "unsigned_val = int(binary_str, 2)\n",
    "print(f\"As unsigned: {unsigned_val}\")\n",
    "\n",
    "# Convert to signed (two's complement)\n",
    "if unsigned_val >= 2**7:  # If MSB is 1\n",
    "    signed_val = unsigned_val - 2**8\n",
    "else:\n",
    "    signed_val = unsigned_val\n",
    "\n",
    "print(f\"As signed (two's complement): {signed_val}\")"
   ]
  },
  {
   "cell_type": "markdown",
   "metadata": {},
   "source": [
    "## 9. Post/Pre-Increment Example\n",
    "\n",
    "**Question:** What are the final values after executing this code?\n",
    "\n",
    "```c\n",
    "int a = 10;\n",
    "int b = 13;\n",
    "int c = a++ + ++b;\n",
    "int d = c++ + a--;\n",
    "```\n",
    "\n",
    "**Options:** **a = 10, b = 14, c = 25, d = 35 ✅**, others\n",
    "\n",
    "**Answer:** a=10, b=14, c=25, d=35"
   ]
  },
  {
   "cell_type": "code",
   "execution_count": null,
   "metadata": {},
   "outputs": [],
   "source": [
    "# C code simulation with step-by-step execution\n",
    "print(\"Step-by-step execution:\")\n",
    "a = 10\n",
    "b = 13\n",
    "print(f\"Initial: a={a}, b={b}\")\n",
    "\n",
    "# c = a++ + ++b\n",
    "print(\"\\nCalculating c = a++ + ++b:\")\n",
    "temp_a = a  # a++ uses current value\n",
    "a += 1\n",
    "b += 1      # ++b increments first\n",
    "c = temp_a + b\n",
    "print(f\"c = {temp_a} + {b} = {c}\")\n",
    "\n",
    "# d = c++ + a--\n",
    "print(\"\\nCalculating d = c++ + a--:\")\n",
    "temp_c = c  # c++ uses current value\n",
    "c += 1\n",
    "temp_a2 = a  # a-- uses current value\n",
    "a -= 1\n",
    "d = temp_c + temp_a2\n",
    "print(f\"d = {temp_c} + {temp_a2} = {d}\")\n",
    "\n",
    "print(f\"\\nFinal values: a={a}, b={b}, c={c}, d={d}\")"
   ]
  },
  {
   "cell_type": "markdown",
   "metadata": {},
   "source": [
    "## 10. Compound Assignment Example\n",
    "\n",
    "**Question:** What is the output of this C program?\n",
    "\n",
    "```c\n",
    "int x = 10, y = 4, z = 2;\n",
    "x /= y %= z += 3;\n",
    "printf(\"%d %d %d\", x, y, z);\n",
    "```\n",
    "\n",
    "**Options:** 10 4 5, 2 0 2, 5 4 5, **2 4 5 ✅**\n",
    "\n",
    "**Answer:** 2 4 5"
   ]
  },
  {
   "cell_type": "code",
   "execution_count": null,
   "metadata": {},
   "outputs": [],
   "source": [
    "# C compound assignment simulation (right to left evaluation)\n",
    "print(\"Step-by-step execution:\")\n",
    "x, y, z = 10, 4, 2\n",
    "print(f\"Initial: x={x}, y={y}, z={z}\")\n",
    "\n",
    "print(\"\\nEvaluating x /= y %= z += 3 (right to left):\")\n",
    "\n",
    "# First: z += 3\n",
    "z += 3\n",
    "print(f\"z += 3: z = {z}\")\n",
    "\n",
    "# Second: y %= z\n",
    "y %= z\n",
    "print(f\"y %= z: y = 4 % {z} = {y}\")\n",
    "\n",
    "# Third: x /= y\n",
    "x //= y  # Integer division\n",
    "print(f\"x /= y: x = 10 / {y} = {x}\")\n",
    "\n",
    "print(f\"\\nOutput: {x} {y} {z}\")"
   ]
  },
  {
   "cell_type": "markdown",
   "metadata": {},
   "source": [
    "## 11. 8-bit Binary Number Representation\n",
    "\n",
    "**Question:** The 8-bit binary number `10000000` represents which of the following?\n",
    "\n",
    "**Answer:** ✅ **-128 in 2's complement representation**\n",
    "\n",
    "**Explanation:**\n",
    "- `10000000` in unsigned = 128\n",
    "- In 2's complement (signed 8-bit), MSB = 1 → negative number\n",
    "- Range: -128 to +127\n",
    "- So `10000000` = -128"
   ]
  },
  {
   "cell_type": "code",
   "execution_count": null,
   "metadata": {},
   "outputs": [],
   "source": [
    "# 8-bit binary analysis\n",
    "binary = '10000000'\n",
    "print(f\"8-bit binary: {binary}\")\n",
    "\n",
    "# Unsigned interpretation\n",
    "unsigned = int(binary, 2)\n",
    "print(f\"Unsigned value: {unsigned}\")\n",
    "\n",
    "# Signed (two's complement) interpretation\n",
    "if unsigned >= 2**7:  # MSB is 1\n",
    "    signed = unsigned - 2**8\n",
    "else:\n",
    "    signed = unsigned\n",
    "\n",
    "print(f\"Signed (2's complement): {signed}\")\n",
    "print(f\"Range of 8-bit signed: {-2**7} to {2**7 - 1}\")"
   ]
  },
  {
   "cell_type": "markdown",
   "metadata": {},
   "source": [
    "## 12. Ternary Operator - Finding Maximum\n",
    "\n",
    "**Question:** Which combinations of a, b, c makes x = 10?\n",
    "\n",
    "```c\n",
    "x = (a > b) ? ((a > c) ? a : c) : ((b > c) ? b : c);\n",
    "```\n",
    "\n",
    "This finds the maximum of a, b, c. We want x = 10.\n",
    "\n",
    "**Answer:** **a=8, b=6, c=10** ✅"
   ]
  },
  {
   "cell_type": "code",
   "execution_count": null,
   "metadata": {},
   "outputs": [],
   "source": [
    "# Function to simulate the ternary expression\n",
    "def find_max(a, b, c):\n",
    "    return max(a, b, c)\n",
    "\n",
    "# Test options\n",
    "options = [\n",
    "    (12, 10, 5),\n",
    "    (15, 9, 10),\n",
    "    (8, 6, 10),\n",
    "    (10, 5, 7)\n",
    "]\n",
    "\n",
    "print(\"Testing options:\")\n",
    "for i, (a, b, c) in enumerate(options, 1):\n",
    "    x = find_max(a, b, c)\n",
    "    result = \"✅\" if x == 10 else \"❌\"\n",
    "    print(f\"Option {i}: a={a}, b={b}, c={c} → x = {x} {result}\")"
   ]
  },
  {
   "cell_type": "markdown",
   "metadata": {},
   "source": [
    "## 13. Assembly Program - Final Value of R4\n",
    "\n",
    "**Question:** What is the final value of R4?\n",
    "\n",
    "```asm\n",
    "MOV R1, 5\n",
    "MOV R2, 3\n",
    "MOV R3, 0\n",
    "MOV R4, 0\n",
    "LOOP:\n",
    "INC R3\n",
    "CMP R3, R1\n",
    "JG END\n",
    "CMP R3, R2\n",
    "JE SKIP_ADD\n",
    "ADD R4, R3\n",
    "SKIP_ADD:\n",
    "JMP LOOP\n",
    "END\n",
    "```\n",
    "\n",
    "**Answer:** Final R4 = 12"
   ]
  },
  {
   "cell_type": "code",
   "execution_count": null,
   "metadata": {},
   "outputs": [],
   "source": [
    "# Assembly program simulation\n",
    "print(\"Assembly Program Simulation:\")\n",
    "R1, R2, R3, R4 = 5, 3, 0, 0\n",
    "print(f\"Initial: R1={R1}, R2={R2}, R3={R3}, R4={R4}\")\n",
    "\n",
    "print(\"\\nLoop iterations:\")\n",
    "iteration = 0\n",
    "while True:\n",
    "    iteration += 1\n",
    "    R3 += 1  # INC R3\n",
    "    \n",
    "    print(f\"Iteration {iteration}: R3 = {R3}\")\n",
    "    \n",
    "    if R3 > R1:  # CMP R3, R1; JG END\n",
    "        print(f\"  R3 > R1 → Exit loop\")\n",
    "        break\n",
    "    \n",
    "    if R3 == R2:  # CMP R3, R2; JE SKIP_ADD\n",
    "        print(f\"  R3 == R2 → Skip ADD\")\n",
    "    else:\n",
    "        R4 += R3  # ADD R4, R3\n",
    "        print(f\"  ADD R4, R3 → R4 = {R4}\")\n",
    "\n",
    "print(f\"\\n✅ Final R4 = {R4}\")\n",
    "print(f\"Verification: Sum of 1+2+4+5 (skip 3) = {1+2+4+5}\")"
   ]
  },
  {
   "cell_type": "markdown",
   "metadata": {},
   "source": [
    "## 14. Switch-Case Program Output\n",
    "\n",
    "**Question:** What is the output?\n",
    "\n",
    "```c\n",
    "char option = 'B';\n",
    "int points = 100;\n",
    "switch(option) {\n",
    "  case 'A': points -= 50; break;\n",
    "  case 'B': points /= 4;\n",
    "  case 'C': points += 5;\n",
    "  case 'D': points -= 3; break;\n",
    "  case 'E': points = 0; break;\n",
    "}\n",
    "printf(\"%d\", points);\n",
    "```\n",
    "\n",
    "**Answer:** Output: 27"
   ]
  },
  {
   "cell_type": "code",
   "execution_count": null,
   "metadata": {},
   "outputs": [],
   "source": [
    "# Switch-case simulation with fall-through\n",
    "print(\"Switch-case execution:\")\n",
    "option = 'B'\n",
    "points = 100\n",
    "print(f\"Initial: option='{option}', points={points}\")\n",
    "\n",
    "print(f\"\\nExecuting case '{option}':\")\n",
    "\n",
    "if option == 'B':\n",
    "    points //= 4  # Integer division\n",
    "    print(f\"Case 'B': points /= 4 → points = {points}\")\n",
    "    # No break - fall through\n",
    "    \n",
    "    points += 5\n",
    "    print(f\"Fall through to Case 'C': points += 5 → points = {points}\")\n",
    "    # No break - fall through\n",
    "    \n",
    "    points -= 3\n",
    "    print(f\"Fall through to Case 'D': points -= 3 → points = {points}\")\n",
    "    # break - exit switch\n",
    "\n",
    "print(f\"\\n✅ Output: {points}\")\n",
    "print(\"\\nStep summary: 100/4=25 → 25+5=30 → 30-3=27\")"
   ]
  }
 ],
 "metadata": {
  "kernelspec": {
   "display_name": "Python 3",
   "language": "python",
   "name": "python3"
  },
  "language_info": {
   "codemirror_mode": {
    "name": "ipython",
    "version": 3
   },
   "file_extension": ".py",
   "name": "python",
   "nbconvert_exporter": "python",
   "pygments_lexer": "ipython3",
   "version": "3.8.5"
  }
 },
 "nbformat": 4,
 "nbformat_minor": 4
}
