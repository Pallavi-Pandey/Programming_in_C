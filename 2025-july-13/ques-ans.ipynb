{
 "cells": [
  {
   "cell_type": "markdown",
   "metadata": {},
   "source": [
    "# Programming in C - Complete Practice Questions\n",
    "## July 13, 2025 - All 14 Questions"
   ]
  },
  {
   "cell_type": "markdown",
   "metadata": {},
   "source": [
    "## 1. Peripherals in a Computer\n",
    "\n",
    "**Question:** Select the correct statement about peripherals in a computer.\n",
    "\n",
    "**Answer:** CPU reads the values from the peripherals by reading the value at the memory address mapped to them. ✅"
   ]
  },
  {
   "cell_type": "markdown",
   "metadata": {},
   "source": [
    "## 2. Memory Types in Descending Order\n",
    "\n",
    "**Question:** Arrange the memory types from largest to smallest size.\n",
    "\n",
    "**Answer:** Secondary Memory (Hard Drive), Main Memory (RAM), Cache Memory, Registers ✅"
   ]
  },
  {
   "cell_type": "markdown",
   "metadata": {},
   "source": [
    "## 3. C Language Description\n",
    "\n",
    "**Question:** Which of the following best describes the C programming language?\n",
    "\n",
    "**Answer:** Mid-level, structured, compiled ✅"
   ]
  },
  {
   "cell_type": "markdown",
   "metadata": {},
   "source": [
    "## 4. Binary to Decimal Conversion\n",
    "\n",
    "**Question:** Convert binary `1101101` to decimal.\n",
    "\n",
    "**Answer:** 109 ✅"
   ]
  },
  {
   "cell_type": "code",
   "execution_count": 1,
   "metadata": {},
   "outputs": [
    {
     "name": "stdout",
     "output_type": "stream",
     "text": [
      "Binary 1101101 = Decimal 109\n",
      "Manual: 1*64 + 1*32 + 0*16 + 1*8 + 1*4 + 0*2 + 1*1 = 109\n"
     ]
    }
   ],
   "source": [
    "%%bash\n",
    "cat > binary_conversion_q4.c << 'EOF'\n",
    "#include <stdio.h>\n",
    "#include <string.h>\n",
    "#include <math.h>\n",
    "\n",
    "int binaryToDecimal(char *binary) {\n",
    "    int decimal = 0;\n",
    "    int length = strlen(binary);\n",
    "    \n",
    "    for (int i = 0; i < length; i++) {\n",
    "        if (binary[length - 1 - i] == '1') {\n",
    "            decimal += pow(2, i);\n",
    "        }\n",
    "    }\n",
    "    return decimal;\n",
    "}\n",
    "\n",
    "int main() {\n",
    "    char binary[] = \"1101101\";\n",
    "    int decimal = binaryToDecimal(binary);\n",
    "    \n",
    "    printf(\"Binary %s = Decimal %d\\n\", binary, decimal);\n",
    "    printf(\"Manual: 1*64 + 1*32 + 0*16 + 1*8 + 1*4 + 0*2 + 1*1 = %d\\n\", 64+32+8+4+1);\n",
    "    \n",
    "    return 0;\n",
    "}\n",
    "EOF\n",
    "\n",
    "gcc -o binary_conversion_q4 binary_conversion_q4.c -lm\n",
    "./binary_conversion_q4\n",
    "rm binary_conversion_q4 binary_conversion_q4.c"
   ]
  },
  {
   "cell_type": "markdown",
   "metadata": {},
   "source": [
    "## 5. Generalized Memory Model Computation\n",
    "\n",
    "**Question:** Given the memory operations, find M[6].\n",
    "\n",
    "**Answer:** M[6] = x² + y²"
   ]
  },
  {
   "cell_type": "code",
   "execution_count": 2,
   "metadata": {},
   "outputs": [
    {
     "name": "stdout",
     "output_type": "stream",
     "text": [
      "Final M[6] = 25 = 3² + 4²\n"
     ]
    }
   ],
   "source": [
    "%%bash\n",
    "cat > memory_model_q5.c << 'EOF'\n",
    "#include <stdio.h>\n",
    "\n",
    "int main() {\n",
    "    int M[7] = {0};\n",
    "    int x = 3, y = 4;\n",
    "    \n",
    "    M[0] = x;\n",
    "    M[1] = y;\n",
    "    M[2] = M[0] * M[0];\n",
    "    M[3] = M[1] * M[1];\n",
    "    M[4] = 2 * M[0] * M[1];\n",
    "    M[5] = M[2] + M[4];\n",
    "    M[6] = M[3] - M[4];\n",
    "    M[6] = M[5] + M[6];\n",
    "    \n",
    "    printf(\"Final M[6] = %d = %d² + %d²\\n\", M[6], x, y);\n",
    "    \n",
    "    return 0;\n",
    "}\n",
    "EOF\n",
    "\n",
    "gcc -o memory_model_q5 memory_model_q5.c\n",
    "./memory_model_q5\n",
    "rm memory_model_q5 memory_model_q5.c"
   ]
  },
  {
   "cell_type": "markdown",
   "metadata": {},
   "source": [
    "## 6. C Program with Nested Loops\n",
    "\n",
    "**Question:** What is the output of this C program?\n",
    "\n",
    "**Answer:** 5 ✅"
   ]
  },
  {
   "cell_type": "code",
   "execution_count": 3,
   "metadata": {},
   "outputs": [
    {
     "name": "stdout",
     "output_type": "stream",
     "text": [
      "Final count: 5\n"
     ]
    }
   ],
   "source": [
    "%%bash\n",
    "cat > nested_loops_q6.c << 'EOF'\n",
    "#include <stdio.h>\n",
    "\n",
    "int main() {\n",
    "    int count = 0;\n",
    "    \n",
    "    for (int i = 1; i <= 3; i++) {\n",
    "        for (int j = 1; j <= 3; j++) {\n",
    "            if ((i + j) % 2 == 0)\n",
    "                count++;\n",
    "        }\n",
    "    }\n",
    "    \n",
    "    printf(\"Final count: %d\\n\", count);\n",
    "    return 0;\n",
    "}\n",
    "EOF\n",
    "\n",
    "gcc -o nested_loops_q6 nested_loops_q6.c\n",
    "./nested_loops_q6\n",
    "rm nested_loops_q6 nested_loops_q6.c"
   ]
  },
  {
   "cell_type": "markdown",
   "metadata": {},
   "source": [
    "## 7. Instruction Encoding\n",
    "\n",
    "**Question:** A CPU has 30 unique instructions and 3 operands per instruction, each addressing one of 256 registers. Minimum number of bits required?\n",
    "\n",
    "**Answer:** 29 bits ✅"
   ]
  },
  {
   "cell_type": "code",
   "execution_count": 4,
   "metadata": {},
   "outputs": [
    {
     "name": "stdout",
     "output_type": "stream",
     "text": [
      "Total bits = 5 + (3 × 8) = 29\n"
     ]
    }
   ],
   "source": [
    "%%bash\n",
    "cat > instruction_encoding_q7.c << 'EOF'\n",
    "#include <stdio.h>\n",
    "#include <math.h>\n",
    "\n",
    "int main() {\n",
    "    int instructions = 30;\n",
    "    int operands = 3;\n",
    "    int registers = 256;\n",
    "    \n",
    "    int opcode_bits = (int)ceil(log2(instructions));\n",
    "    int register_bits = (int)ceil(log2(registers));\n",
    "    int total_bits = opcode_bits + (operands * register_bits);\n",
    "    \n",
    "    printf(\"Total bits = %d + (%d × %d) = %d\\n\", opcode_bits, operands, register_bits, total_bits);\n",
    "    \n",
    "    return 0;\n",
    "}\n",
    "EOF\n",
    "\n",
    "gcc -o instruction_encoding_q7 instruction_encoding_q7.c -lm\n",
    "./instruction_encoding_q7\n",
    "rm instruction_encoding_q7 instruction_encoding_q7.c"
   ]
  },
  {
   "cell_type": "markdown",
   "metadata": {},
   "source": [
    "## 8. Two's Complement Conversion\n",
    "\n",
    "**Question:** Find decimal equivalent of 8-bit two's complement number `11111010`.\n",
    "\n",
    "**Answer:** -6 ✅"
   ]
  },
  {
   "cell_type": "code",
   "execution_count": 5,
   "metadata": {},
   "outputs": [
    {
     "name": "stdout",
     "output_type": "stream",
     "text": [
      "8-bit binary: 11111010\n",
      "As signed (2's complement): -6\n"
     ]
    }
   ],
   "source": [
    "%%bash\n",
    "cat > twos_complement_q8.c << 'EOF'\n",
    "#include <stdio.h>\n",
    "#include <stdint.h>\n",
    "\n",
    "int main() {\n",
    "    uint8_t binary_val = 0b11111010;\n",
    "    int8_t signed_val = (int8_t)binary_val;\n",
    "    \n",
    "    printf(\"8-bit binary: 11111010\\n\");\n",
    "    printf(\"As signed (2's complement): %d\\n\", signed_val);\n",
    "    \n",
    "    return 0;\n",
    "}\n",
    "EOF\n",
    "\n",
    "gcc -o twos_complement_q8 twos_complement_q8.c\n",
    "./twos_complement_q8\n",
    "rm twos_complement_q8 twos_complement_q8.c"
   ]
  },
  {
   "cell_type": "markdown",
   "metadata": {},
   "source": [
    "## 9. Post/Pre-Increment Example\n",
    "\n",
    "**Question:** Final values after executing the code?\n",
    "\n",
    "**Answer:** a=10, b=14, c=25, d=35"
   ]
  },
  {
   "cell_type": "code",
   "execution_count": 6,
   "metadata": {},
   "outputs": [
    {
     "name": "stdout",
     "output_type": "stream",
     "text": [
      "Final values: a=10, b=14, c=25, d=35\n"
     ]
    }
   ],
   "source": [
    "%%bash\n",
    "cat > increment_example_q9.c << 'EOF'\n",
    "#include <stdio.h>\n",
    "\n",
    "int main() {\n",
    "    int a = 10, b = 13;\n",
    "    int c = a++ + ++b;\n",
    "    int d = c++ + a--;\n",
    "    \n",
    "    printf(\"Final values: a=%d, b=%d, c=%d, d=%d\\n\", a, b, c, d);\n",
    "    \n",
    "    return 0;\n",
    "}\n",
    "EOF\n",
    "\n",
    "gcc -o increment_example_q9 increment_example_q9.c\n",
    "./increment_example_q9\n",
    "rm increment_example_q9 increment_example_q9.c"
   ]
  },
  {
   "cell_type": "markdown",
   "metadata": {},
   "source": [
    "## 10. Compound Assignment Example\n",
    "\n",
    "**Question:** Output of compound assignment?\n",
    "\n",
    "**Answer:** 2 4 5"
   ]
  },
  {
   "cell_type": "code",
   "execution_count": 7,
   "metadata": {},
   "outputs": [
    {
     "name": "stdout",
     "output_type": "stream",
     "text": [
      "2 4 5\n"
     ]
    }
   ],
   "source": [
    "%%bash\n",
    "cat > compound_assignment_q10.c << 'EOF'\n",
    "#include <stdio.h>\n",
    "\n",
    "int main() {\n",
    "    int x = 10, y = 4, z = 2;\n",
    "    x /= y %= z += 3;\n",
    "    printf(\"%d %d %d\\n\", x, y, z);\n",
    "    \n",
    "    return 0;\n",
    "}\n",
    "EOF\n",
    "\n",
    "gcc -o compound_assignment_q10 compound_assignment_q10.c\n",
    "./compound_assignment_q10\n",
    "rm compound_assignment_q10 compound_assignment_q10.c"
   ]
  },
  {
   "cell_type": "markdown",
   "metadata": {},
   "source": [
    "## 11. Binary Representation\n",
    "\n",
    "**Question:** What does `10000000` represent?\n",
    "\n",
    "**Answer:** -128 in 2's complement ✅"
   ]
  },
  {
   "cell_type": "code",
   "execution_count": 8,
   "metadata": {},
   "outputs": [
    {
     "name": "stdout",
     "output_type": "stream",
     "text": [
      "Binary: 10000000\n",
      "Signed: -128\n"
     ]
    }
   ],
   "source": [
    "%%bash\n",
    "cat > binary_rep_q11.c << 'EOF'\n",
    "#include <stdio.h>\n",
    "#include <stdint.h>\n",
    "\n",
    "int main() {\n",
    "    uint8_t val = 0b10000000;\n",
    "    int8_t signed_val = (int8_t)val;\n",
    "    \n",
    "    printf(\"Binary: 10000000\\n\");\n",
    "    printf(\"Signed: %d\\n\", signed_val);\n",
    "    \n",
    "    return 0;\n",
    "}\n",
    "EOF\n",
    "\n",
    "gcc -o binary_rep_q11 binary_rep_q11.c\n",
    "./binary_rep_q11\n",
    "rm binary_rep_q11 binary_rep_q11.c"
   ]
  },
  {
   "cell_type": "markdown",
   "metadata": {},
   "source": [
    "## 12. Ternary Operator\n",
    "\n",
    "**Question:** Which combination makes x = 10?\n",
    "\n",
    "**Answer:** a=8, b=6, c=10 ✅"
   ]
  },
  {
   "cell_type": "code",
   "execution_count": 9,
   "metadata": {},
   "outputs": [
    {
     "name": "stdout",
     "output_type": "stream",
     "text": [
      "a=8, b=6, c=10 → x=10\n"
     ]
    }
   ],
   "source": [
    "%%bash\n",
    "cat > ternary_max_q12.c << 'EOF'\n",
    "#include <stdio.h>\n",
    "\n",
    "int findMax(int a, int b, int c) {\n",
    "    return (a > b) ? ((a > c) ? a : c) : ((b > c) ? b : c);\n",
    "}\n",
    "\n",
    "int main() {\n",
    "    int a = 8, b = 6, c = 10;\n",
    "    int x = findMax(a, b, c);\n",
    "    printf(\"a=%d, b=%d, c=%d → x=%d\\n\", a, b, c, x);\n",
    "    \n",
    "    return 0;\n",
    "}\n",
    "EOF\n",
    "\n",
    "gcc -o ternary_max_q12 ternary_max_q12.c\n",
    "./ternary_max_q12\n",
    "rm ternary_max_q12 ternary_max_q12.c"
   ]
  },
  {
   "cell_type": "markdown",
   "metadata": {},
   "source": [
    "## 13. Assembly Simulation\n",
    "\n",
    "**Question:** Final value of R4?\n",
    "\n",
    "**Answer:** 12"
   ]
  },
  {
   "cell_type": "code",
   "execution_count": 10,
   "metadata": {},
   "outputs": [
    {
     "name": "stdout",
     "output_type": "stream",
     "text": [
      "Final R4 = 12\n"
     ]
    }
   ],
   "source": [
    "%%bash\n",
    "cat > assembly_sim_q13.c << 'EOF'\n",
    "#include <stdio.h>\n",
    "\n",
    "int main() {\n",
    "    int R1 = 5, R2 = 3, R3 = 0, R4 = 0;\n",
    "    \n",
    "    while (1) {\n",
    "        R3++;\n",
    "        if (R3 > R1) break;\n",
    "        if (R3 != R2) R4 += R3;\n",
    "    }\n",
    "    \n",
    "    printf(\"Final R4 = %d\\n\", R4);\n",
    "    return 0;\n",
    "}\n",
    "EOF\n",
    "\n",
    "gcc -o assembly_sim_q13 assembly_sim_q13.c\n",
    "./assembly_sim_q13\n",
    "rm assembly_sim_q13 assembly_sim_q13.c"
   ]
  },
  {
   "cell_type": "markdown",
   "metadata": {},
   "source": [
    "## 14. Switch-Case Program\n",
    "\n",
    "**Question:** Output with fall-through?\n",
    "\n",
    "**Answer:** 27"
   ]
  },
  {
   "cell_type": "code",
   "execution_count": 11,
   "metadata": {},
   "outputs": [
    {
     "name": "stdout",
     "output_type": "stream",
     "text": [
      "27\n"
     ]
    }
   ],
   "source": [
    "%%bash\n",
    "cat > switch_case_q14.c << 'EOF'\n",
    "#include <stdio.h>\n",
    "\n",
    "int main() {\n",
    "    char option = 'B';\n",
    "    int points = 100;\n",
    "    \n",
    "    switch(option) {\n",
    "        case 'A': points -= 50; break;\n",
    "        case 'B': points /= 4;\n",
    "        case 'C': points += 5;\n",
    "        case 'D': points -= 3; break;\n",
    "        case 'E': points = 0; break;\n",
    "    }\n",
    "    \n",
    "    printf(\"%d\\n\", points);\n",
    "    \n",
    "    return 0;\n",
    "}\n",
    "EOF\n",
    "\n",
    "gcc -o switch_case_q14 switch_case_q14.c\n",
    "./switch_case_q14\n",
    "rm switch_case_q14 switch_case_q14.c"
   ]
  }
 ],
 "metadata": {
  "kernelspec": {
   "display_name": "Python 3",
   "language": "python",
   "name": "python3"
  },
  "language_info": {
   "codemirror_mode": {
    "name": "ipython",
    "version": 3
   },
   "file_extension": ".py",
   "mimetype": "text/x-python",
   "name": "python",
   "nbconvert_exporter": "python",
   "pygments_lexer": "ipython3",
   "version": "3.10.12"
  }
 },
 "nbformat": 4,
 "nbformat_minor": 4
}
